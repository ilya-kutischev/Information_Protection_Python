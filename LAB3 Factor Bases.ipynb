{
 "cells": [
  {
   "cell_type": "code",
   "execution_count": 1,
   "id": "959c91d0",
   "metadata": {},
   "outputs": [
    {
     "name": "stdout",
     "output_type": "stream",
     "text": [
      "Defaulting to user installation because normal site-packages is not writeable\n",
      "Requirement already satisfied: gmpy2 in /home/ilya/.local/lib/python3.10/site-packages (2.1.2)\n"
     ]
    }
   ],
   "source": [
    "import time\n",
    "import math\n",
    "from math import log, exp\n",
    "import gmpy2\n",
    "!pip install gmpy2\n",
    "\n",
    "#по моей начальной логике алгоритм эратосфена по поиску факторной базы должен был быть эффективнее, но оказался \n",
    "#на больших базах в несколько раз менее эффективным по времени и в десятки раз по памяти :(\n",
    "def test_prime_base(n):\n",
    "    base=[]\n",
    "    prime = 2\n",
    "    while prime<n:\n",
    "        base.append(prime)\n",
    "        prime = gmpy2.next_prime(prime)\n",
    "    return base\n",
    "\n",
    "def eratosthenes(n):     # n - число, до которого хотим найти простые числа \n",
    "    sieve = list(range(n + 1))\n",
    "    sieve[1] = 0    # без этой строки итоговый список будет содержать единицу\n",
    "    for i in sieve:\n",
    "        if i > 1:\n",
    "            for j in range(2*i, len(sieve), i):\n",
    "                sieve[j] = 0\n",
    "    return [x for x in sieve if x != 0]\n",
    "\n"
   ]
  },
  {
   "cell_type": "code",
   "execution_count": 2,
   "id": "01e49707",
   "metadata": {},
   "outputs": [
    {
     "name": "stdout",
     "output_type": "stream",
     "text": [
      "2.3603439331054688e-05\n"
     ]
    }
   ],
   "source": [
    "#112 сек, факторная база до 350000000, 18803526 простых чисел, 17 гб оперативки\n",
    "st = time.time()\n",
    "# print(len(eratosthenes(350000000)))\n",
    "print(time.time()-st)\n",
    "\n",
    "# gmpy2 генератор занял лишь 1 гб оперативки, 73 сек, для ФБ 21336326 простых чисел меньших 400000000"
   ]
  },
  {
   "cell_type": "code",
   "execution_count": 13,
   "id": "30f6e77a",
   "metadata": {},
   "outputs": [],
   "source": [
    "def adleman(g,h,p, c):\n",
    "    M= (int(exp((log(p)*log(log(p)))**0.5)//1))**c\n",
    "    print(M)\n",
    "    base = test_prime_base(M)\n",
    "    # тут поднялся вопрос как решить НСЛУ через питон, пока думаю над этим\n",
    "    # отвкет найден np.linalg.solve(M1, v1)\n",
    "    for s in range(100):\n",
    "        "
   ]
  },
  {
   "cell_type": "code",
   "execution_count": 15,
   "id": "a2540bad",
   "metadata": {},
   "outputs": [
    {
     "name": "stdout",
     "output_type": "stream",
     "text": [
      "744252961\n",
      "None\n"
     ]
    }
   ],
   "source": [
    "p = 53876214808523\n",
    "g = 26253744338574\n",
    "h1 = 113\n",
    "h2 = 17958738269507\n",
    "c=2\n",
    "\n",
    "print(adleman(g,p,h2,c))"
   ]
  },
  {
   "cell_type": "code",
   "execution_count": 30,
   "id": "2c27044e",
   "metadata": {},
   "outputs": [],
   "source": [
    "# задание 2 более быстрый тест на b гладкость\n",
    "\n",
    "def bsmooze_check(h, p, c):\n",
    "    M= (int(exp((log(p)*log(log(p)))**0.5)//1))**c\n",
    "   \n",
    "    base = test_prime_base(M)\n",
    "    checker =  1\n",
    "    for i in base:\n",
    "        checker *=  i**(log(i,p)//1)\n",
    "\n",
    "    h = h if h>=0 else -h\n",
    "    \n",
    "    return gmpy2.gcd(gmpy2.mpz(h),gmpy2.mpz(checker)) == h"
   ]
  },
  {
   "cell_type": "code",
   "execution_count": 34,
   "id": "43926a2c",
   "metadata": {},
   "outputs": [
    {
     "data": {
      "text/plain": [
       "False"
      ]
     },
     "execution_count": 34,
     "metadata": {},
     "output_type": "execute_result"
    }
   ],
   "source": [
    "p = 53876214808523\n",
    "h2 = 17958738269507\n",
    "c=2\n",
    "bsmooze_check(h2, p, c)"
   ]
  },
  {
   "cell_type": "code",
   "execution_count": null,
   "id": "592febf6",
   "metadata": {},
   "outputs": [],
   "source": []
  }
 ],
 "metadata": {
  "kernelspec": {
   "display_name": "Python 3 (ipykernel)",
   "language": "python",
   "name": "python3"
  },
  "language_info": {
   "codemirror_mode": {
    "name": "ipython",
    "version": 3
   },
   "file_extension": ".py",
   "mimetype": "text/x-python",
   "name": "python",
   "nbconvert_exporter": "python",
   "pygments_lexer": "ipython3",
   "version": "3.10.6"
  }
 },
 "nbformat": 4,
 "nbformat_minor": 5
}
