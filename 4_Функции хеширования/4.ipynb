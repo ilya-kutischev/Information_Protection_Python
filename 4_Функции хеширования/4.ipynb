{
 "cells": [
  {
   "cell_type": "code",
   "execution_count": 10,
   "id": "stainless-mustang",
   "metadata": {},
   "outputs": [],
   "source": [
    "# 4 lab\n",
    "#y = CRC(m) = m||r\n",
    "# m - сообщение\n",
    "# r - контрольгая сумма"
   ]
  },
  {
   "cell_type": "code",
   "execution_count": 1,
   "id": "broad-toyota",
   "metadata": {},
   "outputs": [],
   "source": [
    "def xor(a, b):\n",
    " \n",
    "    # initialize result\n",
    "    result = []\n",
    " \n",
    "    # Traverse all bits, if bits are\n",
    "    # same, then XOR is 0, else 1\n",
    "    for i in range(1, len(b)):\n",
    "        if a[i] == b[i]:\n",
    "            result.append('0')\n",
    "        else:\n",
    "            result.append('1')\n",
    " \n",
    "    return ''.join(result)"
   ]
  },
  {
   "cell_type": "code",
   "execution_count": 2,
   "id": "protective-interest",
   "metadata": {},
   "outputs": [],
   "source": [
    "# Performs Modulo-2 division\n",
    "def mod2div(divident, divisor):\n",
    " \n",
    "    # Number of bits to be XORed at a time.\n",
    "    pick = len(divisor)\n",
    " \n",
    "    # Slicing the divident to appropriate\n",
    "    # length for particular step\n",
    "    tmp = divident[0 : pick]\n",
    " \n",
    "    while pick < len(divident):\n",
    " \n",
    "        if tmp[0] == '1':\n",
    " \n",
    "            # replace the divident by the result\n",
    "            # of XOR and pull 1 bit down\n",
    "            tmp = xor(divisor, tmp) + divident[pick]\n",
    " \n",
    "        else: # If leftmost bit is '0'\n",
    " \n",
    "            # If the leftmost bit of the dividend (or the\n",
    "            # part used in each step) is 0, the step cannot\n",
    "            # use the regular divisor; we need to use an\n",
    "            # all-0s divisor.\n",
    "            tmp = xor('0'*pick, tmp) + divident[pick]\n",
    " \n",
    "        # increment pick to move further\n",
    "        pick += 1\n",
    " \n",
    "    # For the last n bits, we have to carry it out\n",
    "    # normally as increased value of pick will cause\n",
    "    # Index Out of Bounds.\n",
    "    if tmp[0] == '1':\n",
    "        tmp = xor(divisor, tmp)\n",
    "    else:\n",
    "        tmp = xor('0'*pick, tmp)\n",
    " \n",
    "    checkword = tmp\n",
    "    return checkword\n"
   ]
  },
  {
   "cell_type": "code",
   "execution_count": 3,
   "id": "seasonal-liability",
   "metadata": {},
   "outputs": [],
   "source": [
    "def encodeData(data, key):\n",
    " \n",
    "    l_key = len(key)\n",
    " \n",
    "    # Appends n-1 zeroes at end of data\n",
    "    appended_data = data + '0'*(l_key-1)\n",
    "    remainder = mod2div(appended_data, key)\n",
    " \n",
    "    # Append remainder in the original data\n",
    "    codeword = data + remainder\n",
    "    return [data, remainder,codeword] \n",
    " "
   ]
  },
  {
   "cell_type": "code",
   "execution_count": 11,
   "id": "initial-virtue",
   "metadata": {},
   "outputs": [
    {
     "name": "stdout",
     "output_type": "stream",
     "text": [
      "Enter data you want to send->10001\n",
      "Entered data in binary format : 10001\n",
      "Enter key's coefs->110101011000001010000010100000011\n",
      "['10001', '01000100011011000110110000100100', '1000101000100011011000110110000100100']\n",
      "Data: 10001\n",
      "Remainder: 01000100011011000110110000100100\n",
      "Result: 1000101000100011011000110110000100100\n"
     ]
    }
   ],
   "source": [
    "input_string = input(\"Enter data you want to send->\")\n",
    "\n",
    "#data =(''.join(format(ord(x), 'b') for x in input_string))\n",
    "data =(input_string)\n",
    "print(\"Entered data in binary format :\",data)\n",
    "key = input(\"Enter key's coefs->\")\n",
    "ans = encodeData(data,key)\n",
    "print(ans)\n",
    "print(\"Data:\", ans[0])\n",
    "print(\"Remainder:\",ans[1])\n",
    "print(\"Result:\",ans[2])\n",
    "\n",
    "# q = 110101011000001010000010100000011\n",
    "# m1 = 10001\n",
    "# m2 = 010001\n",
    "# y1 = 1000100011001100110011001001000010010\n",
    "# y2 = 0000100011001100110011001001000010010\n"
   ]
  },
  {
   "cell_type": "code",
   "execution_count": null,
   "id": "applied-aviation",
   "metadata": {},
   "outputs": [],
   "source": [
    "########################################################################\n",
    "#Коллизии---------------------------------------------------------------\n",
    "\n"
   ]
  }
 ],
 "metadata": {
  "kernelspec": {
   "display_name": "Python 3",
   "language": "python",
   "name": "python3"
  },
  "language_info": {
   "codemirror_mode": {
    "name": "ipython",
    "version": 3
   },
   "file_extension": ".py",
   "mimetype": "text/x-python",
   "name": "python",
   "nbconvert_exporter": "python",
   "pygments_lexer": "ipython3",
   "version": "3.8.5"
  }
 },
 "nbformat": 4,
 "nbformat_minor": 5
}
