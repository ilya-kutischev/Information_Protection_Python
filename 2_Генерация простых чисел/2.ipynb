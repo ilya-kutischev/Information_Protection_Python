{
 "cells": [
  {
   "cell_type": "code",
   "execution_count": 15,
   "id": "pregnant-fancy",
   "metadata": {},
   "outputs": [],
   "source": [
    "import time\n",
    "import random\n",
    "import os\n",
    "from sympy import prime\n",
    "import sympy\n",
    "import math"
   ]
  },
  {
   "cell_type": "code",
   "execution_count": 5,
   "id": "ancient-trade",
   "metadata": {},
   "outputs": [],
   "source": [
    "def fpow(base, exp,mod):\n",
    "    \"\"\" Fast power calculation using repeated squaring \"\"\"\n",
    "    if exp < 0:\n",
    "        return 1 / power(base, -exp)\n",
    "    ans = 1\n",
    "    while exp:\n",
    "        if exp & 1:\n",
    "            ans *= base\n",
    "            ans = ans % mod\n",
    "        exp >>= 1\n",
    "        base *= base\n",
    "    return ans"
   ]
  },
  {
   "cell_type": "code",
   "execution_count": 6,
   "id": "unlimited-invitation",
   "metadata": {},
   "outputs": [],
   "source": [
    "# метод пробных делений\n",
    "def is_prime_try_dev(num):\n",
    "    dev = 2\n",
    "    while dev < num**0.5:\n",
    "        if num%dev == 0:\n",
    "            return False\n",
    "        else:\n",
    "            dev += 1\n",
    "    return True"
   ]
  },
  {
   "cell_type": "code",
   "execution_count": 7,
   "id": "homeless-fifteen",
   "metadata": {},
   "outputs": [
    {
     "name": "stdout",
     "output_type": "stream",
     "text": [
      "True\n",
      "0.5966494083404541\n"
     ]
    }
   ],
   "source": [
    "start = time.time()\n",
    "print(is_prime_try_dev(100500000109))\n",
    "end = time.time()\n",
    "print(end - start)"
   ]
  },
  {
   "cell_type": "code",
   "execution_count": 8,
   "id": "cordless-single",
   "metadata": {},
   "outputs": [],
   "source": [
    "# малая теорема ферма\n",
    "\n",
    "def is_prime_ferma(n):\n",
    "    a = 2\n",
    "    while a<n:\n",
    "        #print(fpow(a,(n-1),n))\n",
    "        if fpow(a,(n-1),n) != 1:\n",
    "           \n",
    "            return False\n",
    "        else:\n",
    "            a += 1\n",
    "    return True"
   ]
  },
  {
   "cell_type": "code",
   "execution_count": 16,
   "id": "remarkable-europe",
   "metadata": {},
   "outputs": [
    {
     "ename": "KeyboardInterrupt",
     "evalue": "",
     "output_type": "error",
     "traceback": [
      "\u001b[1;31m---------------------------------------------------------------------------\u001b[0m",
      "\u001b[1;31mKeyboardInterrupt\u001b[0m                         Traceback (most recent call last)",
      "\u001b[1;32m<ipython-input-16-e49547771634>\u001b[0m in \u001b[0;36m<module>\u001b[1;34m\u001b[0m\n\u001b[0;32m      1\u001b[0m \u001b[0mstart\u001b[0m \u001b[1;33m=\u001b[0m \u001b[0mtime\u001b[0m\u001b[1;33m.\u001b[0m\u001b[0mtime\u001b[0m\u001b[1;33m(\u001b[0m\u001b[1;33m)\u001b[0m\u001b[1;33m\u001b[0m\u001b[1;33m\u001b[0m\u001b[0m\n\u001b[1;32m----> 2\u001b[1;33m \u001b[0mprint\u001b[0m\u001b[1;33m(\u001b[0m\u001b[0mis_prime_ferma\u001b[0m\u001b[1;33m(\u001b[0m\u001b[1;36m799837771\u001b[0m\u001b[1;33m)\u001b[0m\u001b[1;33m)\u001b[0m\u001b[1;33m\u001b[0m\u001b[1;33m\u001b[0m\u001b[0m\n\u001b[0m\u001b[0;32m      3\u001b[0m \u001b[0mend\u001b[0m \u001b[1;33m=\u001b[0m \u001b[0mtime\u001b[0m\u001b[1;33m.\u001b[0m\u001b[0mtime\u001b[0m\u001b[1;33m(\u001b[0m\u001b[1;33m)\u001b[0m\u001b[1;33m\u001b[0m\u001b[1;33m\u001b[0m\u001b[0m\n\u001b[0;32m      4\u001b[0m \u001b[0mprint\u001b[0m\u001b[1;33m(\u001b[0m\u001b[0mend\u001b[0m \u001b[1;33m-\u001b[0m \u001b[0mstart\u001b[0m\u001b[1;33m)\u001b[0m\u001b[1;33m\u001b[0m\u001b[1;33m\u001b[0m\u001b[0m\n",
      "\u001b[1;32m<ipython-input-8-e0a727ce721d>\u001b[0m in \u001b[0;36mis_prime_ferma\u001b[1;34m(n)\u001b[0m\n\u001b[0;32m      5\u001b[0m     \u001b[1;32mwhile\u001b[0m \u001b[0ma\u001b[0m\u001b[1;33m<\u001b[0m\u001b[0mn\u001b[0m\u001b[1;33m:\u001b[0m\u001b[1;33m\u001b[0m\u001b[1;33m\u001b[0m\u001b[0m\n\u001b[0;32m      6\u001b[0m         \u001b[1;31m#print(fpow(a,(n-1),n))\u001b[0m\u001b[1;33m\u001b[0m\u001b[1;33m\u001b[0m\u001b[1;33m\u001b[0m\u001b[0m\n\u001b[1;32m----> 7\u001b[1;33m         \u001b[1;32mif\u001b[0m \u001b[0mfpow\u001b[0m\u001b[1;33m(\u001b[0m\u001b[0ma\u001b[0m\u001b[1;33m,\u001b[0m\u001b[1;33m(\u001b[0m\u001b[0mn\u001b[0m\u001b[1;33m-\u001b[0m\u001b[1;36m1\u001b[0m\u001b[1;33m)\u001b[0m\u001b[1;33m,\u001b[0m\u001b[0mn\u001b[0m\u001b[1;33m)\u001b[0m \u001b[1;33m!=\u001b[0m \u001b[1;36m1\u001b[0m\u001b[1;33m:\u001b[0m\u001b[1;33m\u001b[0m\u001b[1;33m\u001b[0m\u001b[0m\n\u001b[0m\u001b[0;32m      8\u001b[0m \u001b[1;33m\u001b[0m\u001b[0m\n\u001b[0;32m      9\u001b[0m             \u001b[1;32mreturn\u001b[0m \u001b[1;32mFalse\u001b[0m\u001b[1;33m\u001b[0m\u001b[1;33m\u001b[0m\u001b[0m\n",
      "\u001b[1;32m<ipython-input-5-6b4047ea98d7>\u001b[0m in \u001b[0;36mfpow\u001b[1;34m(base, exp, mod)\u001b[0m\n\u001b[0;32m      9\u001b[0m             \u001b[0mans\u001b[0m \u001b[1;33m=\u001b[0m \u001b[0mans\u001b[0m \u001b[1;33m%\u001b[0m \u001b[0mmod\u001b[0m\u001b[1;33m\u001b[0m\u001b[1;33m\u001b[0m\u001b[0m\n\u001b[0;32m     10\u001b[0m         \u001b[0mexp\u001b[0m \u001b[1;33m>>=\u001b[0m \u001b[1;36m1\u001b[0m\u001b[1;33m\u001b[0m\u001b[1;33m\u001b[0m\u001b[0m\n\u001b[1;32m---> 11\u001b[1;33m         \u001b[0mbase\u001b[0m \u001b[1;33m*=\u001b[0m \u001b[0mbase\u001b[0m\u001b[1;33m\u001b[0m\u001b[1;33m\u001b[0m\u001b[0m\n\u001b[0m\u001b[0;32m     12\u001b[0m     \u001b[1;32mreturn\u001b[0m \u001b[0mans\u001b[0m\u001b[1;33m\u001b[0m\u001b[1;33m\u001b[0m\u001b[0m\n",
      "\u001b[1;31mKeyboardInterrupt\u001b[0m: "
     ]
    }
   ],
   "source": [
    "start = time.time()\n",
    "print(is_prime_ferma(799837771))\n",
    "end = time.time()\n",
    "print(end - start)"
   ]
  },
  {
   "cell_type": "code",
   "execution_count": null,
   "id": "polyphonic-bench",
   "metadata": {},
   "outputs": [],
   "source": [
    "# Вероятностный тест на простоту Миллера-Рабина \n",
    "#свидетели простоты\n",
    "def NOD(a,b):\n",
    "    while a != 0 and b != 0:\n",
    "        if a > b:\n",
    "            a = a % b\n",
    "        else:\n",
    "            b = b % a\n",
    "    return a+b\n",
    "\n",
    "def WitnessQ(a,n):\n",
    "    if n%2 == 0:\n",
    "        return False\n",
    "    if NOD(a,n) != 1:\n",
    "        return False\n",
    "    s = 0\n",
    "    t = 0\n",
    "    n_1 = n-1\n",
    "    while n_1%2 == 0:\n",
    "        n_1 = n_1 / 2\n",
    "        s += 1\n",
    "    t = int(n_1)\n",
    "   # print(\"s =\"+str(s))\n",
    "   # print(\"t =\"+str(t))\n",
    "    if (a**t)%n == 1:\n",
    "        return True\n",
    "    for i in range(s):\n",
    "        if (a**((2**i)*t)%n) == (n-1):\n",
    "            return True\n",
    "    return False\n",
    "\n",
    "#4**-k   вероятность ложной простоты\n",
    "#O(k*log^3(n))- сложнсть"
   ]
  },
  {
   "cell_type": "code",
   "execution_count": 18,
   "id": "lesser-philippines",
   "metadata": {},
   "outputs": [
    {
     "name": "stdout",
     "output_type": "stream",
     "text": [
      "True\n",
      "0.0\n"
     ]
    }
   ],
   "source": [
    "start = time.time()\n",
    "print(WitnessQ(174,221))\n",
    "end = time.time()\n",
    "print(end - start)"
   ]
  },
  {
   "cell_type": "code",
   "execution_count": 12,
   "id": "typical-belief",
   "metadata": {},
   "outputs": [],
   "source": [
    "####4 задание\n",
    "def Witness(n, k):\n",
    "    for i in range(k):\n",
    "        a = random.randint(2,n-1)\n",
    "        if WitnessQ(a,n) == False:\n",
    "            return False\n",
    "    return True"
   ]
  },
  {
   "cell_type": "code",
   "execution_count": 14,
   "id": "parallel-criminal",
   "metadata": {},
   "outputs": [
    {
     "data": {
      "text/plain": [
       "True"
      ]
     },
     "execution_count": 14,
     "metadata": {},
     "output_type": "execute_result"
    }
   ],
   "source": [
    "Witness(28627,100)"
   ]
  },
  {
   "cell_type": "code",
   "execution_count": 10,
   "id": "common-debut",
   "metadata": {},
   "outputs": [],
   "source": [
    "#5 задание\n",
    "\"\"\"\n",
    "У Шнайера этот вопрос хорошо освящен (стр 296 «Прикладной криптографии» — pdf легкой найти).\n",
    "Генерируете случайное p. Сначала проверяете p на четность (по младшему биту).\n",
    "Затем проверяете остаток от деления на 3,5,7,… — первые простые числа кроме 2, меньше 2000.\n",
    "Затем прогоняете 5 тестов Рабина-Миллера (google) для 5 разных случайных чисел a.\n",
    "Если прошел все 5 — можно считать число простым. В целях эффективности можно генерировать небольшие a.\n",
    "\"\"\"\n",
    "def PrimeGeneration(b):\n",
    "    while True:\n",
    "        os.system('cls')\n",
    "        num = random.getrandbits(b)  #случайное число из b бит\n",
    "        if Witness(num,1)==0: #можно ставить разное количество проходок, чем больше тем выше вероятность что число простое\n",
    "            continue\n",
    "        else:\n",
    "            return(num)"
   ]
  },
  {
   "cell_type": "code",
   "execution_count": 11,
   "id": "multiple-breed",
   "metadata": {},
   "outputs": [
    {
     "name": "stdout",
     "output_type": "stream",
     "text": [
      "40169\n",
      "1.1278436183929443\n"
     ]
    }
   ],
   "source": [
    "start = time.time()\n",
    "print(PrimeGeneration(18))  #до 18 проходит нормально, выше долго думает\n",
    "end = time.time()\n",
    "print(end - start)"
   ]
  },
  {
   "cell_type": "code",
   "execution_count": 12,
   "id": "eastern-graphic",
   "metadata": {},
   "outputs": [],
   "source": [
    "def sympy_bit_prime(b):\n",
    "    min = 2**(b-1)\n",
    "    max = 2**b\n",
    "    return(sympy.randprime(min,max))"
   ]
  },
  {
   "cell_type": "code",
   "execution_count": 16,
   "id": "handmade-given",
   "metadata": {},
   "outputs": [
    {
     "name": "stdout",
     "output_type": "stream",
     "text": [
      "24992986549085337216203024585233796443490546393958089575207199688603472328170779371039465108347513459610001505891475616341974609616084380364638288544596347049929626764799010161408463040310647591544170041887811283376789983511683527912065351600072975091286148364711702418660323776604365984301529010111863347084847580435215839859099251443805206210523586853762322044944688725465338884116162810990154339213447448416528204151863\n",
      "1.5521154403686523\n"
     ]
    }
   ],
   "source": [
    "start = time.time()\n",
    "print(sympy_bit_prime(1400)) #примерно с той же скоростью функция вычисляет 1400 бит число\n",
    "end = time.time()\n",
    "print(end - start)"
   ]
  },
  {
   "cell_type": "code",
   "execution_count": 5,
   "id": "pediatric-worst",
   "metadata": {},
   "outputs": [],
   "source": [
    "# задание 6 Диемитко\n",
    "def Diemitko(t):\n",
    "    q=3\n",
    "    shag1 = 0\n",
    "    shag2 = 0\n",
    "    while True:\n",
    "        if shag1 ==0:\n",
    "            eps = random.random()\n",
    "            #print(\"Eps=\"+str(eps))\n",
    "            N = (2**(t-1))//q + (2**(t-1)*eps)//q\n",
    "            #print(\"N=\"+ str(N))\n",
    "            if N%2==1:\n",
    "                N+=1\n",
    "            u=0\n",
    "            \n",
    "        if shag2 == 0:\n",
    "            p=(N+u)*q+1  #кандидат  в простые числа\n",
    "            #print(\"P=\"+str(p))\n",
    "            if p>2**t:\n",
    "                shag1=0\n",
    "                continue\n",
    "            else:\n",
    "                shag1 = 1\n",
    "            #print(\"------------------\")\n",
    "            \n",
    "            #print((2**(p-1))%p == 1)\n",
    "            #print((2**(N+u))%p != 1)\n",
    "            #print(\"==================\")\n",
    "            p=int(p)\n",
    "            for i in range(p-1):\n",
    "                if (((i)**(p-1))%p == 1 and i**((p-1)/q)%p != 1):\n",
    "                    return p\n",
    "            \n",
    "            u+=2\n",
    "            #os.system('cls')\n",
    "                \n",
    "#exponential\n",
    "        "
   ]
  },
  {
   "cell_type": "code",
   "execution_count": 6,
   "id": "japanese-steam",
   "metadata": {},
   "outputs": [
    {
     "name": "stdout",
     "output_type": "stream",
     "text": [
      "739\n"
     ]
    }
   ],
   "source": [
    "print(Diemitko(10))"
   ]
  },
  {
   "cell_type": "code",
   "execution_count": null,
   "id": "structural-athletics",
   "metadata": {},
   "outputs": [],
   "source": [
    "n = 9072395133\n",
    "fpow(2,n-1,17)"
   ]
  },
  {
   "cell_type": "code",
   "execution_count": null,
   "id": "conceptual-parade",
   "metadata": {},
   "outputs": [],
   "source": []
  }
 ],
 "metadata": {
  "kernelspec": {
   "display_name": "Python 3",
   "language": "python",
   "name": "python3"
  },
  "language_info": {
   "codemirror_mode": {
    "name": "ipython",
    "version": 3
   },
   "file_extension": ".py",
   "mimetype": "text/x-python",
   "name": "python",
   "nbconvert_exporter": "python",
   "pygments_lexer": "ipython3",
   "version": "3.8.5"
  }
 },
 "nbformat": 4,
 "nbformat_minor": 5
}
