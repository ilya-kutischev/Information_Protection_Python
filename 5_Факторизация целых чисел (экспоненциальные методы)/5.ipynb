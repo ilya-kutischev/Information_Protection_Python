{
 "cells": [
  {
   "cell_type": "code",
   "execution_count": 1,
   "id": "continent-three",
   "metadata": {},
   "outputs": [
    {
     "name": "stdout",
     "output_type": "stream",
     "text": [
      "maxsize- 9223372036854775807\n"
     ]
    }
   ],
   "source": [
    "#5 lab\n",
    "import random\n",
    "import os\n",
    "import time\n",
    "import numpy\n",
    "import sys\n",
    "from gmpy2 import mpz\n",
    "print(\"maxsize-\",sys.maxsize) #проблема что нумпай с интами больше этого числа\n",
    "# не хочет работать\n",
    "\n",
    "#https://stackoverflow.com/questions/66111479/how-to-calculate-very-long-numbers-in-python\n",
    "\n",
    "#решил попробовать метод парня со стака, установить вот что\n",
    "#!pip install gmpy2\n",
    "import gmpy2\n",
    "\n",
    "#gmpy2.get_context().precision=70\n",
    "#как я понял можно самому выставлять максимальный размер бит числа, по умолч 128 "
   ]
  },
  {
   "cell_type": "code",
   "execution_count": 44,
   "id": "boxed-emergency",
   "metadata": {},
   "outputs": [
    {
     "name": "stdout",
     "output_type": "stream",
     "text": [
      "Answer= 755233\n",
      "Time= 4.189777374267578\n"
     ]
    }
   ],
   "source": [
    "def turtle_rand_num(n):\n",
    "    n = int(n)\n",
    "    x=[]\n",
    "    i=0\n",
    "    x.append(random.randint(1,n))\n",
    "    while True:\n",
    "        i+=1\n",
    "        x.append(random.randint(1,n))\n",
    "        for j in range(i-1):\n",
    "            d = gmpy2.gcd(x[i]-x[j],n)\n",
    "            if 1<d and d<n:\n",
    "                return d\n",
    "    return\n",
    "        \n",
    "start = time.time()\n",
    "#ans = turtle_rand_num(15506156499551801071)\n",
    "\n",
    "ans = turtle_rand_num(62868210912435676236063110171611552388850726581321443446871402813418011834255546376426442433367780232341829909876174267356648704288645335775262924915608120133502414785983748439328046795993277337869292939901)\n",
    "print(\"Answer=\",ans)\n",
    "end = time.time()\n",
    "print(\"Time=\",end - start)"
   ]
  },
  {
   "cell_type": "code",
   "execution_count": 87,
   "id": "billion-soundtrack",
   "metadata": {},
   "outputs": [
    {
     "name": "stdout",
     "output_type": "stream",
     "text": [
      "Answer= 755233\n",
      "Time= 0.0009975433349609375\n"
     ]
    }
   ],
   "source": [
    "def turtle(n,a,x_0):\n",
    "    n = int(n)\n",
    "    x=[]\n",
    "    def f_x(n,x,a):\n",
    "        return (x**2+a)%n\n",
    "    i=0\n",
    "    x.append(x_0)\n",
    "    while True:\n",
    "        i+=1\n",
    "        \n",
    "        x.append(f_x(n,x[i-1],a))\n",
    "        for j in range(i-1):\n",
    "            d = gmpy2.gcd(x[i]-x[j],n)\n",
    "            if 1<d and d<n:\n",
    "                return d\n",
    "            if d == n:\n",
    "                raise OverflowError(\"Try another\")\n",
    "    return\n",
    "        \n",
    "start = time.time()\n",
    "#ans = turtle(15506156499551801071,17, 3)\n",
    "\n",
    "#ans = turtle(62868210912435676236063110171611552388850726581321443446871402813418011834255546376426442433367780232341829909876174267356648704288645335775262924915608120133502414785983748439328046795993277337869292939901,5, 3)\n",
    "print(\"Answer=\",ans)\n",
    "\n",
    "end = time.time()\n",
    "print(\"Time=\",end - start)"
   ]
  },
  {
   "cell_type": "code",
   "execution_count": 55,
   "id": "detected-dressing",
   "metadata": {},
   "outputs": [
    {
     "name": "stdout",
     "output_type": "stream",
     "text": [
      "Answer= 3989896451\n",
      "Time= 0.09875273704528809\n"
     ]
    }
   ],
   "source": [
    "def turtle_rabbit_save(n,a,x_0):\n",
    "    i=0\n",
    "    x=[]\n",
    "    def f_x(n,x,a):\n",
    "        return (x**2+a)%n\n",
    "    x.append(x_0)\n",
    "    while True:\n",
    "        i+=1\n",
    "        x.append(f_x(n,x[2*i-2],a))\n",
    "        x.append(f_x(n,x[2*i-1],a))\n",
    "        d = gmpy2.gcd(x[2*i]-x[i],n)\n",
    "        if 1<d and d<n:\n",
    "            return d\n",
    "        if d == n:\n",
    "            raise OverflowError(\"Try another\")\n",
    "    return\n",
    "\n",
    "\n",
    "start = time.time()\n",
    "ans = turtle_rabbit_save(15506156499551801071,5, 3)\n",
    "\n",
    "#ans = turtle_rabbit_save(62868210912435676236063110171611552388850726581321443446871402813418011834255546376426442433367780232341829909876174267356648704288645335775262924915608120133502414785983748439328046795993277337869292939901,5, 3)\n",
    "print(\"Answer=\",ans)\n",
    "\n",
    "end = time.time()\n",
    "print(\"Time=\",end - start)\n"
   ]
  },
  {
   "cell_type": "code",
   "execution_count": 54,
   "id": "piano-traveler",
   "metadata": {},
   "outputs": [
    {
     "name": "stdout",
     "output_type": "stream",
     "text": [
      "Answer= 3989896451\n",
      "Time= 0.10868072509765625\n"
     ]
    }
   ],
   "source": [
    "def turtle_rabbit(n,a,x_0):    \n",
    "    Hare = x_0\n",
    "    Tortoise = x_0\n",
    "    def f_x(x,n=n,a=a):\n",
    "        return (x**2+a)%n\n",
    "    \n",
    "    \n",
    "    while True:\n",
    "        Hare = f_x(f_x(Hare))\n",
    "        Tortoise = f_x(Tortoise)\n",
    "        d = gmpy2.gcd(Hare-Tortoise,n)\n",
    "        if 1<d and d<n:\n",
    "            return d\n",
    "        if d == n:\n",
    "            raise OverflowError(\"Try another\")\n",
    "        \n",
    "    return\n",
    "\n",
    "\n",
    "start = time.time()\n",
    "ans = turtle_rabbit(15506156499551801071,5, 3)\n",
    "\n",
    "#ans = turtle_rabbit(62868210912435676236063110171611552388850726581321443446871402813418011834255546376426442433367780232341829909876174267356648704288645335775262924915608120133502414785983748439328046795993277337869292939901,5, 3)\n",
    "print(\"Answer=\",ans)\n",
    "\n",
    "end = time.time()\n",
    "print(\"Time=\",end - start)\n"
   ]
  },
  {
   "cell_type": "code",
   "execution_count": 77,
   "id": "private-birmingham",
   "metadata": {},
   "outputs": [
    {
     "name": "stdout",
     "output_type": "stream",
     "text": [
      "Answer= 755233\n",
      "Time= 0.04291486740112305\n"
     ]
    }
   ],
   "source": [
    "def turtle_ahiles(n,a,x_0):    \n",
    "    Tortoise = x_0\n",
    "    Achilles = x_0\n",
    "    k = 0\n",
    "    def f_x(x,n=n,a=a):\n",
    "        return (x**2+a)%n\n",
    "    \n",
    "    \n",
    "    while True:\n",
    "        for j in range(1,2**k+1):\n",
    "            \n",
    "            Tortoise = f_x(Tortoise)\n",
    "            d = gmpy2.gcd(Achilles-Tortoise,n)\n",
    "            if 1<d and d<n:\n",
    "                return d\n",
    "            if d == n:\n",
    "                raise OverflowError(\"Try another\")\n",
    "        Achilles = Tortoise\n",
    "        k+=1\n",
    "        \n",
    "    return\n",
    "\n",
    "\n",
    "start = time.time()\n",
    "#ans = turtle_rabbit(15506156499551801071)\n",
    "\n",
    "#ans = turtle_ahiles(62868210912435676236063110171611552388850726581321443446871402813418011834255546376426442433367780232341829909876174267356648704288645335775262924915608120133502414785983748439328046795993277337869292939901,5, 3)\n",
    "print(\"Answer=\",ans)\n",
    "\n",
    "end = time.time()\n",
    "print(\"Time=\",end - start)\n"
   ]
  },
  {
   "cell_type": "code",
   "execution_count": 83,
   "id": "acceptable-territory",
   "metadata": {},
   "outputs": [
    {
     "name": "stdout",
     "output_type": "stream",
     "text": [
      "61\n"
     ]
    }
   ],
   "source": [
    "#7 ########################################################\n",
    "\n",
    "print(turtle(41053,1,1))"
   ]
  },
  {
   "cell_type": "code",
   "execution_count": 88,
   "id": "affected-smile",
   "metadata": {},
   "outputs": [
    {
     "ename": "OverflowError",
     "evalue": "Try another",
     "output_type": "error",
     "traceback": [
      "\u001b[1;31m---------------------------------------------------------------------------\u001b[0m",
      "\u001b[1;31mOverflowError\u001b[0m                             Traceback (most recent call last)",
      "\u001b[1;32m<ipython-input-88-82af26dadb3d>\u001b[0m in \u001b[0;36m<module>\u001b[1;34m\u001b[0m\n\u001b[1;32m----> 1\u001b[1;33m \u001b[0mprint\u001b[0m\u001b[1;33m(\u001b[0m\u001b[0mturtle\u001b[0m\u001b[1;33m(\u001b[0m\u001b[1;36m52357\u001b[0m\u001b[1;33m,\u001b[0m\u001b[1;36m1\u001b[0m\u001b[1;33m,\u001b[0m\u001b[1;36m1\u001b[0m\u001b[1;33m)\u001b[0m\u001b[1;33m)\u001b[0m\u001b[1;33m\u001b[0m\u001b[1;33m\u001b[0m\u001b[0m\n\u001b[0m",
      "\u001b[1;32m<ipython-input-87-a2f080f17a83>\u001b[0m in \u001b[0;36mturtle\u001b[1;34m(n, a, x_0)\u001b[0m\n\u001b[0;32m     15\u001b[0m                 \u001b[1;32mreturn\u001b[0m \u001b[0md\u001b[0m\u001b[1;33m\u001b[0m\u001b[1;33m\u001b[0m\u001b[0m\n\u001b[0;32m     16\u001b[0m             \u001b[1;32mif\u001b[0m \u001b[0md\u001b[0m \u001b[1;33m==\u001b[0m \u001b[0mn\u001b[0m\u001b[1;33m:\u001b[0m\u001b[1;33m\u001b[0m\u001b[1;33m\u001b[0m\u001b[0m\n\u001b[1;32m---> 17\u001b[1;33m                 \u001b[1;32mraise\u001b[0m \u001b[0mOverflowError\u001b[0m\u001b[1;33m(\u001b[0m\u001b[1;34m\"Try another\"\u001b[0m\u001b[1;33m)\u001b[0m\u001b[1;33m\u001b[0m\u001b[1;33m\u001b[0m\u001b[0m\n\u001b[0m\u001b[0;32m     18\u001b[0m     \u001b[1;32mreturn\u001b[0m\u001b[1;33m\u001b[0m\u001b[1;33m\u001b[0m\u001b[0m\n\u001b[0;32m     19\u001b[0m \u001b[1;33m\u001b[0m\u001b[0m\n",
      "\u001b[1;31mOverflowError\u001b[0m: Try another"
     ]
    }
   ],
   "source": [
    "print(turtle(52357,1,1)) #not exist"
   ]
  },
  {
   "cell_type": "code",
   "execution_count": 125,
   "id": "defined-corruption",
   "metadata": {},
   "outputs": [],
   "source": [
    "def sieve_eratosthenes(n):\n",
    "    n = int(n)\n",
    "    numbers = list(range(2, n + 1))\n",
    "    for number in numbers:\n",
    "        if number != 0:\n",
    "            for candidate in range(2 * number, n+1, number):\n",
    "                numbers[candidate-2] = 0    \n",
    "    return(list(filter(lambda x: x != 0, numbers)))\n",
    "\n",
    "\n",
    "def pollard_p_1(n,M,K):\n",
    "    B = sieve_eratosthenes(K)\n",
    "    a = random.randint(1,n)\n",
    "    d = gmpy2.gcd(a,n)\n",
    "    if d>1:\n",
    "        return d\n",
    "    for i in range(1,len(B)):\n",
    "        beta_i=(gmpy2.log(M)/gmpy2.log(B[i]))//1\n",
    "        a = pow(int(a),int(B[i]**beta_i),int(n))\n",
    "    #print(a)\n",
    "    d = int(gmpy2.gcd(mpz(a-1),mpz(n)))\n",
    "    if d == 1:\n",
    "        raise ValueError(\"get more M,K\")\n",
    "    if 1<d and d<n:\n",
    "        return d\n",
    "    if d == n:\n",
    "        raise ValueError(\"Get less M,K or another a\")"
   ]
  },
  {
   "cell_type": "code",
   "execution_count": 137,
   "id": "balanced-logan",
   "metadata": {},
   "outputs": [
    {
     "name": "stdout",
     "output_type": "stream",
     "text": [
      "2927\n"
     ]
    }
   ],
   "source": [
    "print(pollard_p_1(12378283,10000000,10000000)) #работает"
   ]
  },
  {
   "cell_type": "code",
   "execution_count": null,
   "id": "subject-administrator",
   "metadata": {},
   "outputs": [],
   "source": []
  }
 ],
 "metadata": {
  "kernelspec": {
   "display_name": "Python 3",
   "language": "python",
   "name": "python3"
  },
  "language_info": {
   "codemirror_mode": {
    "name": "ipython",
    "version": 3
   },
   "file_extension": ".py",
   "mimetype": "text/x-python",
   "name": "python",
   "nbconvert_exporter": "python",
   "pygments_lexer": "ipython3",
   "version": "3.8.5"
  }
 },
 "nbformat": 4,
 "nbformat_minor": 5
}
