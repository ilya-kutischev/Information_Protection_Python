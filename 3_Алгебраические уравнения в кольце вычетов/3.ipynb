{
 "cells": [
  {
   "cell_type": "code",
   "execution_count": 25,
   "id": "detected-drain",
   "metadata": {},
   "outputs": [],
   "source": [
    "import time\n",
    "import random\n",
    "import os\n",
    "from sympy import prime\n",
    "import sympy\n",
    "import math\n",
    "import numpy as np"
   ]
  },
  {
   "cell_type": "code",
   "execution_count": 26,
   "id": "sufficient-round",
   "metadata": {},
   "outputs": [],
   "source": [
    "# ВЫчисление обратных элементов\n",
    "def adv_alg_euclid(a,b):\n",
    "    M = np.array([[1,0],[0,1]])\n",
    "    while True:\n",
    "        r = a % b\n",
    "        q = a // b\n",
    "        if r == 0:\n",
    "            gcd = M[0][1]*a+M[1][1]*b\n",
    "            if gcd == 1:\n",
    "                return ((M[0][1]%b+b)%b)\n",
    "            else:\n",
    "                return -1\n",
    "        else:\n",
    "            a = b\n",
    "            b = r\n",
    "            M = np.dot(M , np.array([[0,1],[1,-q]]))"
   ]
  },
  {
   "cell_type": "code",
   "execution_count": 27,
   "id": "concrete-ethics",
   "metadata": {},
   "outputs": [],
   "source": [
    "#Китайская теорема об остатках\n",
    "#https://ru.wikipedia.org/wiki/%D0%9A%D0%B8%D1%82%D0%B0%D0%B9%D1%81%D0%BA%D0%B0%D1%8F_%D1%82%D0%B5%D0%BE%D1%80%D0%B5%D0%BC%D0%B0_%D0%BE%D0%B1_%D0%BE%D1%81%D1%82%D0%B0%D1%82%D0%BA%D0%B0%D1%85\n",
    "arr_a = [2,3,7]\n",
    "arr_r = [1,2,6]\n",
    "def chinese(arr_a,arr_r):\n",
    "    M = 1\n",
    "    n = len(arr_a)\n",
    "    for i in arr_a:\n",
    "        M *= i  #calculate M\n",
    "    #print(M)\n",
    "    Mi = []\n",
    "    for i in range(n):\n",
    "        Mi.append(M/arr_a[i])\n",
    "    print(Mi)\n",
    "    Mi_reverse = []\n",
    "    for i in range(n):\n",
    "        Mi_reverse.append(adv_alg_euclid(Mi[i],arr_a[i]))\n",
    "    print(Mi_reverse)\n",
    "    x = 0\n",
    "    for i in range(n):\n",
    "        x += (arr_r[i]*Mi[i]*Mi_reverse[i])%M\n",
    "        #print(x)\n",
    "    return x"
   ]
  },
  {
   "cell_type": "code",
   "execution_count": 29,
   "id": "eligible-gothic",
   "metadata": {},
   "outputs": [
    {
     "name": "stdout",
     "output_type": "stream",
     "text": [
      "[21.0, 14.0, 6.0]\n",
      "[-1, -1, -1]\n",
      "41.0\n",
      "Time= 0.0\n"
     ]
    }
   ],
   "source": [
    "start = time.time()\n",
    "print(chinese(arr_a,arr_r))\n",
    "end = time.time()\n",
    "print(\"Time=\",end - start)"
   ]
  },
  {
   "cell_type": "code",
   "execution_count": 52,
   "id": "automatic-expansion",
   "metadata": {},
   "outputs": [
    {
     "name": "stdout",
     "output_type": "stream",
     "text": [
      "1 2 6\n"
     ]
    }
   ],
   "source": [
    "print(41%2,41%3,41%7)\n",
    "#проверочка"
   ]
  },
  {
   "cell_type": "code",
   "execution_count": 192,
   "id": "empirical-dispatch",
   "metadata": {},
   "outputs": [],
   "source": [
    "def modInverse(a, n): \n",
    "    a=a%n\n",
    "    for x in range(1, n): \n",
    "        if ((a*x)%n == 1): \n",
    "            return x \n",
    "    return None\n",
    "\n",
    "#algo Garner\n",
    "def Garner(system):\n",
    "    N=1\n",
    "    C=[0]*len(system)\n",
    "    for a,n in system:\n",
    "        N=N*n\n",
    "     \n",
    "    for i in range(1,len(system)):\n",
    "        C[i] = 1\n",
    "        for j in range(0, i-1):\n",
    "            u = pow(system[j][1],-1, system[i][1])\n",
    "            \n",
    "            C[i] = (u*C[i])%system[i][1]\n",
    "    print(C) \n",
    "    C=[0,3,6,5]\n",
    "    u = system[0][0]\n",
    "    x = u\n",
    "    for i in range(1, len(system)):\n",
    "        u = ((system[i][0]-x)*C[i])%system[i][1]\n",
    "        prod = 1\n",
    "        for j in range(0,i):\n",
    "            prod=prod*system[j][1]\n",
    "        x = x + u*prod\n",
    "        print(x)\n",
    "    return(x)\n"
   ]
  },
  {
   "cell_type": "code",
   "execution_count": 193,
   "id": "industrial-latter",
   "metadata": {},
   "outputs": [
    {
     "name": "stdout",
     "output_type": "stream",
     "text": [
      "U: 9\n",
      "U: 8\n",
      "U: 2\n",
      "[0, 1, 9, 3]\n",
      "22\n",
      "267\n",
      "2192\n"
     ]
    },
    {
     "data": {
      "text/plain": [
       "2192"
      ]
     },
     "execution_count": 193,
     "metadata": {},
     "output_type": "execute_result"
    }
   ],
   "source": [
    "#system = [[2,1,3,8],[5,7,11,13]]\n",
    "system =[[2,5],[1,7],[3,11],[8,13]]\n",
    "Garner(system)\n",
    "#Сложность вычисления коэффициентов \n",
    "#для данного алгоритма O(n^{2}. Такая же сложность и восстановления\n",
    "#искомого числа по найденным коэффициентам."
   ]
  },
  {
   "cell_type": "code",
   "execution_count": 194,
   "id": "patent-cooler",
   "metadata": {},
   "outputs": [
    {
     "name": "stdout",
     "output_type": "stream",
     "text": [
      "2192\n",
      "2\n",
      "1\n",
      "3\n",
      "8\n"
     ]
    }
   ],
   "source": [
    "N=2192\n",
    "print(N)\n",
    "print(N%5)\n",
    "print(N%7)\n",
    "print(N%11)\n",
    "print(N%13)\n",
    "# не работает"
   ]
  },
  {
   "cell_type": "code",
   "execution_count": 1,
   "id": "limiting-proceeding",
   "metadata": {},
   "outputs": [
    {
     "name": "stdout",
     "output_type": "stream",
     "text": [
      "2192\n"
     ]
    }
   ],
   "source": [
    "def garner(n, a):\n",
    "    #n попарно взаимно простые числа\n",
    "    # a остатки от деления на соответствующие числа\n",
    "    s = 0\n",
    "    \n",
    "    prod = 1\n",
    "    for i in n:\n",
    "        prod *= i\n",
    "    for n_i, a_i in zip(n, a):\n",
    "        p = prod // n_i\n",
    "        s += a_i * pow(p,-1, n_i) * p  #inverse pow -1\n",
    "    return s % prod    \n",
    "\n",
    "\n",
    "n = [5,7,11,13]\n",
    "a = [2,1,3,8]\n",
    "\n",
    "print(garner(n, a))"
   ]
  },
  {
   "cell_type": "code",
   "execution_count": 2,
   "id": "wrong-fever",
   "metadata": {},
   "outputs": [
    {
     "name": "stdout",
     "output_type": "stream",
     "text": [
      "703066055325632897509116263399480311\n"
     ]
    }
   ],
   "source": [
    "#работает верно даже с большими числами\n",
    "n = [2147483743, 2147483713, 2147483693, 2147483659, 2147483647, 2147483629]\n",
    "a = [1246736738, 748761, 1829651881, 2008266397, 748030137, 1460049539]\n",
    "print(garner(n, a))"
   ]
  },
  {
   "cell_type": "code",
   "execution_count": 30,
   "id": "stuck-package",
   "metadata": {},
   "outputs": [
    {
     "name": "stdout",
     "output_type": "stream",
     "text": [
      "304\n"
     ]
    },
    {
     "data": {
      "text/plain": [
       "186"
      ]
     },
     "execution_count": 30,
     "metadata": {},
     "output_type": "execute_result"
    }
   ],
   "source": [
    "# корень (mod p) из 'a'.   x^2 = a (mod p) возвращает x\n",
    "\n",
    "def modular_sqrt(a, p):\n",
    "    # Простейшие случаи\n",
    "    if legendre_symbol(a, p) != 1:\n",
    "        return 0\n",
    "    elif a == 0:\n",
    "        return 0\n",
    "    elif p == 2:\n",
    "        return 0\n",
    "    elif p % 4 == 3:\n",
    "        return pow(a, (p + 1) / 4, p)\n",
    "\n",
    "    \n",
    "    # разбиваем p-1 на s * 2^e где s  нечетно или сокращаем степени 2 из p-1\n",
    "    s = p - 1\n",
    "    e = 0\n",
    "    while s % 2 == 0:\n",
    "        s /= 2\n",
    "        e += 1\n",
    "\n",
    "    #Ищем n с символом Лежандра n|p = -1.\n",
    "    n = 2\n",
    "    while legendre_symbol(n, p) != -1:\n",
    "        n += 1\n",
    "\n",
    "     # x - это предположение квадратного корня, которое становится лучше\n",
    "     # с каждой итерацией.\n",
    "     # b - \"фактор выдумки\" - насколько мы ошиблись\n",
    "     # с догадкой. Инвариант x^2 = ab (mod p)\n",
    "     # сохраняется на протяжении всего цикла.\n",
    "     # g используется для последовательных степеней n для обновления\n",
    "     #  а и b\n",
    "     # r - показатель степени - уменьшается с каждым обновлением\n",
    "    \n",
    "    x = pow(int(a), int((s + 1) / 2), int(p))\n",
    "    b = pow(int(a), int(s), int(p))\n",
    "    g = pow(int(n), int(s), int(p))\n",
    "    r = e\n",
    "\n",
    "    while True:\n",
    "        t = b\n",
    "        m = 0\n",
    "        for m in range(r):\n",
    "            if t == 1:\n",
    "                break\n",
    "            t = pow(t, 2, int(p))\n",
    "\n",
    "        if m == 0:\n",
    "            return x\n",
    "\n",
    "        gs = pow(int(g), 2 ** (r - m - 1), int(p))\n",
    "        g = (gs * gs) % p\n",
    "        x = (x * gs) % p\n",
    "        b = (b * g) % p\n",
    "        r = m\n",
    "\n",
    "\n",
    "def legendre_symbol(a, p):\n",
    "    #символ лежандра\n",
    "    #возвращает 1 если корень сущетвует, -1 если нет\n",
    " \n",
    "    ls = pow(a, int((p - 1) / 2), p)\n",
    "    return -1 if ls == p - 1 else ls\n",
    "\n",
    "\n",
    "\n",
    "print(modular_sqrt(186, 401))\n",
    "304**2%401"
   ]
  },
  {
   "cell_type": "code",
   "execution_count": 2,
   "id": "demonstrated-mouth",
   "metadata": {},
   "outputs": [],
   "source": [
    "# благодаря свойствам символа Якоби\n",
    "# он вычисляется за полиномиальное время\n",
    "# и даже символ Лежандра вычисляется не по \n",
    "# определению, а как символ Якоби\n",
    "def JacobiSymbol(a:int, n:int):\n",
    "    J = 1\n",
    "    if n==1:\n",
    "        return J\n",
    "    if a<0:\n",
    "        a = -a\n",
    "        J = (-1)**((n-1)/2)*J\n",
    "    while True:\n",
    "        if n == 1:\n",
    "            return J\n",
    "        if a == 0:\n",
    "            return 0\n",
    "        s = 0\n",
    "        while a%2 == 0:\n",
    "            a = a / 2\n",
    "            s += 1\n",
    "        t = int(a)\n",
    "        if s%2 and (n%8==3 or n%8==-3):\n",
    "            J=-J\n",
    "        if n%4==3 and t%4==3:\n",
    "            J=-J\n",
    "        a = n%t\n",
    "        n=t"
   ]
  },
  {
   "cell_type": "code",
   "execution_count": 31,
   "id": "thermal-speaker",
   "metadata": {},
   "outputs": [
    {
     "data": {
      "text/plain": [
       "-1"
      ]
     },
     "execution_count": 31,
     "metadata": {},
     "output_type": "execute_result"
    }
   ],
   "source": [
    "p1 = 16395155176313139322021\n",
    "p2 = 1362766142559093439411703\n",
    "n = p1*p2\n",
    "JacobiSymbol(11,n)"
   ]
  },
  {
   "cell_type": "code",
   "execution_count": 36,
   "id": "funny-smile",
   "metadata": {},
   "outputs": [
    {
     "name": "stdout",
     "output_type": "stream",
     "text": [
      "Jacobi= 1\n",
      "sqrt= 14\n",
      "JacobiX= -1\n",
      "-----------------------------\n",
      "Jacobi= 1\n",
      "sqrt= 6\n",
      "JacobiX= -1\n",
      "-----------------------------\n",
      "Jacobi= 1\n",
      "sqrt= 12\n",
      "JacobiX= -1\n",
      "-----------------------------\n",
      "Jacobi= -1\n",
      "sqrt= 0\n",
      "JacobiX= 0\n",
      "-----------------------------\n",
      "Jacobi= -1\n",
      "sqrt= 0\n",
      "JacobiX= 0\n",
      "-----------------------------\n"
     ]
    }
   ],
   "source": [
    "#5 задание###############################################################\n",
    "n=17\n",
    "c1 = 9\n",
    "c2 = 121\n",
    "c3 = 10338834675177952044709093355496749039468503256208100344402818453532708354274744654461334970081074489\n",
    "c4 = 16645372732324343017042368294925431318530480201746250593929618073557605696684409426766731807609858685\n",
    "c5 = 11\n",
    "Ci = [c1,c2,c3,c4,c5]\n",
    "for i in Ci:\n",
    "    print(\"Jacobi=\",JacobiSymbol(i,n))\n",
    "    x=modular_sqrt(i,n)\n",
    "    print(\"sqrt=\",x)\n",
    "    print(\"JacobiX=\",JacobiSymbol(x,n))\n",
    "    print(\"-----------------------------\")"
   ]
  },
  {
   "cell_type": "code",
   "execution_count": null,
   "id": "occupational-geology",
   "metadata": {},
   "outputs": [],
   "source": []
  }
 ],
 "metadata": {
  "kernelspec": {
   "display_name": "Python 3",
   "language": "python",
   "name": "python3"
  },
  "language_info": {
   "codemirror_mode": {
    "name": "ipython",
    "version": 3
   },
   "file_extension": ".py",
   "mimetype": "text/x-python",
   "name": "python",
   "nbconvert_exporter": "python",
   "pygments_lexer": "ipython3",
   "version": "3.8.5"
  }
 },
 "nbformat": 4,
 "nbformat_minor": 5
}
