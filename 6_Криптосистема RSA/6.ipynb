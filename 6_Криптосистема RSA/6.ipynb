{
 "cells": [
  {
   "cell_type": "code",
   "execution_count": 1,
   "id": "independent-webmaster",
   "metadata": {},
   "outputs": [],
   "source": [
    "#6 lab\n",
    "import random\n",
    "import os\n",
    "import time\n",
    "import numpy\n",
    "import sys\n",
    "from gmpy2 import mpz\n",
    "import gmpy2"
   ]
  },
  {
   "cell_type": "code",
   "execution_count": 14,
   "id": "fuzzy-support",
   "metadata": {},
   "outputs": [
    {
     "name": "stdout",
     "output_type": "stream",
     "text": [
      "p=  17\n",
      "q=  11\n",
      "fi =  160\n",
      "e =  27\n",
      "encrypted message =  135\n",
      "d =  83\n",
      "n =  187\n",
      "decrypted message =  16\n"
     ]
    }
   ],
   "source": [
    "def euler(p,q):\n",
    "    return (p-1)*(q-1)\n",
    "\n",
    "\n",
    "def rsa_encrypt(message, len_key):\n",
    "    #генерим простые числа\n",
    "    p=0\n",
    "    q=0\n",
    "    #нужны разные числа\n",
    "    while p==q:\n",
    "        p, q = random.getrandbits(len_key), random.getrandbits(len_key)\n",
    "        #генерим след простые\n",
    "        p = gmpy2.next_prime(p)\n",
    "        q = gmpy2.next_prime(q)\n",
    "        \n",
    "    print(\"p= \",p)\n",
    "    print(\"q= \",q)\n",
    "    n = p*q\n",
    "    \n",
    "    fi = euler(p,q)\n",
    "    print(\"fi = \", fi)\n",
    "    e=2\n",
    "    while gmpy2.gcd(e,fi)!=1:\n",
    "        e = random.randint(1,fi)\n",
    "        #e = random.randint(1,65537)\n",
    "        \n",
    "    print(\"e = \",e)    \n",
    "    d = pow(gmpy2.mpz(e),-1,fi)\n",
    "    if 1<message and message<n:\n",
    "        enc_message = pow(gmpy2.mpz(message),e,n)\n",
    "    else:\n",
    "        raise ValueError(\"too big message\")\n",
    "    return [enc_message, d,n]\n",
    "\n",
    "\n",
    "def rsa_decrypt(c,d,n):\n",
    "    return pow(gmpy2.mpz(c),d,n)\n",
    "\n",
    "temp = rsa_encrypt(16,5)\n",
    "print(\"encrypted message = \",int(temp[0]))\n",
    "print(\"d = \",temp[1])\n",
    "print(\"n = \",temp[2])\n",
    "decrypt = rsa_decrypt(temp[0],temp[1],temp[2])\n",
    "\n",
    "print(\"decrypted message = \",decrypt)"
   ]
  },
  {
   "cell_type": "code",
   "execution_count": 19,
   "id": "floppy-sixth",
   "metadata": {},
   "outputs": [],
   "source": [
    "def cryptoanalys(n,e,d):\n",
    "    s = 0\n",
    "    t = n\n",
    "    while t%2==0:\n",
    "        t //= 2\n",
    "        s += 1\n",
    "    \n",
    "    while True:\n",
    "        a = random.randint(1,n-1)\n",
    "        #print(\"Loop1\")\n",
    "        p = gmpy2.gcd(a,n)\n",
    "        if p>1:\n",
    "            return [p,n/p]\n",
    "        u = pow(a,t,n)\n",
    "        v = pow(u,2,n)\n",
    "        if u == 1:\n",
    "            continue\n",
    "        while v!=1:\n",
    "            #print(\"Loop2\")\n",
    "            u=v\n",
    "            v=pow(u,2,n)\n",
    "            \n",
    "        #print(\"after loop2\")\n",
    "        if u%n==-1:\n",
    "            continue\n",
    "        else:\n",
    "            p = gmpy2.gcd(u+1,n)\n",
    "            q = gmpy2.gcd(u-1,n)\n",
    "            return [p,q]\n",
    "    "
   ]
  },
  {
   "cell_type": "code",
   "execution_count": null,
   "id": "incorrect-brooklyn",
   "metadata": {},
   "outputs": [
    {
     "name": "stdout",
     "output_type": "stream",
     "text": [
      "Loop1\n"
     ]
    }
   ],
   "source": [
    "# e1=65537\n",
    "# d1=3738484952195628942367852563067062056742164922188634518050394810656017935397083661533409490777371580819291349906536181991991042351110462143731095131902885405897472009090241337212773608503104882058046768800318034212750088639891843672165040708208679556423236377710531251770979110512695479893675576079325432293690374994912601352208062136085129452560140209224307672787254296881097418117758752891135745843710779821117942638616628368181997378492751396269745648661447707759681792215024912879267850558371922239349697056821975179163226445812830414433342608286322985479680713289905737707753831577382029945831079814096145421973\n",
    "# n1=10055780353459673055446827556976238293154576749660436708781806883068477218638156040464398021632530321861436371796620634484265008929395705212957306860641058930691673427447040694312068293883356645000542215754830412813503080615333131899966356367489112747355207982188183322278459181845701771631102656659583453980566021122666878939986147456199688873250342591157210437401059349152247843905690969493633560919543783019748313809975196506799139628814444545753476148883469525423592686943385149921284754994186273080420388995621053544662247814631680520480667406842325171560617771876490339419641722332536037608909680912486123833041\n",
    "\n",
    "n1= 187\n",
    "e1= 27\n",
    "d1= 83\n",
    "cryptoanalys(n1,e1,d1)"
   ]
  },
  {
   "cell_type": "code",
   "execution_count": null,
   "id": "about-planner",
   "metadata": {},
   "outputs": [],
   "source": []
  }
 ],
 "metadata": {
  "kernelspec": {
   "display_name": "Python 3",
   "language": "python",
   "name": "python3"
  },
  "language_info": {
   "codemirror_mode": {
    "name": "ipython",
    "version": 3
   },
   "file_extension": ".py",
   "mimetype": "text/x-python",
   "name": "python",
   "nbconvert_exporter": "python",
   "pygments_lexer": "ipython3",
   "version": "3.8.5"
  }
 },
 "nbformat": 4,
 "nbformat_minor": 5
}
